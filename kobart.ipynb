{
  "nbformat": 4,
  "nbformat_minor": 0,
  "metadata": {
    "accelerator": "GPU",
    "colab": {
      "name": "[지헌] KoBART.ipynb",
      "provenance": [],
      "collapsed_sections": []
    },
    "kernelspec": {
      "display_name": "Python 3",
      "name": "python3"
    },
    "language_info": {
      "name": "python"
    }
  },
  "cells": [
    {
      "cell_type": "code",
      "metadata": {
        "colab": {
          "base_uri": "https://localhost:8080/"
        },
        "id": "CtoYwqRPC_qO",
        "outputId": "db775ef8-6cc4-4dde-c55d-8ee045a9083d"
      },
      "source": [
        "!pip install ohmeow-blurr -q\n",
        "!pip install datasets -q\n",
        "!pip install bert-score -q"
      ],
      "execution_count": null,
      "outputs": [
        {
          "output_type": "stream",
          "name": "stdout",
          "text": [
            "\u001b[K     |████████████████████████████████| 91 kB 1.2 MB/s \n",
            "\u001b[K     |████████████████████████████████| 186 kB 27.2 MB/s \n",
            "\u001b[K     |████████████████████████████████| 43 kB 1.8 MB/s \n",
            "\u001b[K     |████████████████████████████████| 1.2 MB 32.3 MB/s \n",
            "\u001b[K     |████████████████████████████████| 285 kB 49.1 MB/s \n",
            "\u001b[K     |████████████████████████████████| 2.9 MB 14.9 MB/s \n",
            "\u001b[K     |████████████████████████████████| 56 kB 3.7 MB/s \n",
            "\u001b[K     |████████████████████████████████| 46 kB 4.2 MB/s \n",
            "\u001b[K     |████████████████████████████████| 51 kB 307 kB/s \n",
            "\u001b[K     |████████████████████████████████| 895 kB 36.9 MB/s \n",
            "\u001b[K     |████████████████████████████████| 56 kB 4.4 MB/s \n",
            "\u001b[K     |████████████████████████████████| 3.3 MB 35.2 MB/s \n",
            "\u001b[K     |████████████████████████████████| 596 kB 43.4 MB/s \n",
            "\u001b[K     |████████████████████████████████| 1.3 MB 48.3 MB/s \n",
            "\u001b[K     |████████████████████████████████| 125 kB 54.2 MB/s \n",
            "\u001b[K     |████████████████████████████████| 243 kB 29.1 MB/s \n",
            "\u001b[K     |████████████████████████████████| 271 kB 52.1 MB/s \n",
            "\u001b[K     |████████████████████████████████| 160 kB 46.7 MB/s \n",
            "\u001b[?25h  Building wheel for seqeval (setup.py) ... \u001b[?25l\u001b[?25hdone\n",
            "\u001b[K     |████████████████████████████████| 59 kB 2.7 MB/s \n",
            "\u001b[?25h"
          ]
        }
      ]
    },
    {
      "cell_type": "code",
      "metadata": {
        "id": "SGkF84bbgJ-G",
        "colab": {
          "base_uri": "https://localhost:8080/"
        },
        "outputId": "3af5a066-6251-46b8-b196-8269f1ec97cd"
      },
      "source": [
        "from google.colab import drive\n",
        "drive.mount('/content/drive')"
      ],
      "execution_count": null,
      "outputs": [
        {
          "output_type": "stream",
          "name": "stdout",
          "text": [
            "Mounted at /content/drive\n"
          ]
        }
      ]
    },
    {
      "cell_type": "code",
      "metadata": {
        "id": "0H_six0fDYhA"
      },
      "source": [
        "cd drive/Shareddrives/KLUE Summarization/"
      ],
      "execution_count": null,
      "outputs": []
    },
    {
      "cell_type": "code",
      "metadata": {
        "id": "2mkqcnkSDjMD"
      },
      "source": [
        "import json\n",
        "import pandas as pd\n",
        "\n",
        "\n",
        "def read_jsonl(path):\n",
        "  DATA_DIR = \"문서요약 텍스트_unzip\"\n",
        "  with open(DATA_DIR + path , 'r') as json_file:\n",
        "      json_list = list(json_file)\n",
        "\n",
        "  trains = []\n",
        "  for json_str in json_list:\n",
        "      line = json.loads(json_str)\n",
        "      trains.append(line)\n",
        "  df = pd.DataFrame(trains)\n",
        "  return df\n",
        "\n",
        "train_df = read_jsonl('/1.Training/신문기사_1.train.jsonl/train.jsonl')\n",
        "val_df = read_jsonl('/2.Validation/신문기사_1.vaild.jsonl/vaild.jsonl')\n",
        "train_df.head()"
      ],
      "execution_count": null,
      "outputs": []
    },
    {
      "cell_type": "code",
      "metadata": {
        "id": "wGbpvVfUDjIP"
      },
      "source": [
        "def clean(df):\n",
        "    article = []\n",
        "\n",
        "    for i in range(df.shape[0]):\n",
        "        text = ''\n",
        "        for j in range(len(df['article_original'][i])):\n",
        "            text += \" \" + df['article_original'][i][j]\n",
        "        article.append(text)\n",
        "\n",
        "    df['article'] = article\n",
        "\n",
        "    return df"
      ],
      "execution_count": null,
      "outputs": []
    },
    {
      "cell_type": "code",
      "metadata": {
        "id": "tQEeMRCDE9Da"
      },
      "source": [
        "clean(train_df)\n",
        "\n",
        "df = train_df[:80000]"
      ],
      "execution_count": null,
      "outputs": []
    },
    {
      "cell_type": "code",
      "metadata": {
        "id": "CeB3a93cFD7u",
        "colab": {
          "base_uri": "https://localhost:8080/",
          "height": 341,
          "referenced_widgets": [
            "2333f9277c894cb694b7f2e4294143da",
            "d3d57d4616a44a479a49df0ef750719e",
            "94d73b8630cc4a6792d052057cd4f97f",
            "701ee6bf79ae4fb28897732c2e5d2381",
            "5e2d5b9bc51641b0ad3eb01b95e2c195",
            "4be4024577cb4e898587fa11d1854174",
            "377acfb4111a4910aeece847d24c1cb7",
            "cc8b4263d9794fb29aa596fb31d6376d"
          ]
        },
        "outputId": "54f14b2a-45be-453a-c637-bfafd652c76a"
      },
      "source": [
        "import datasets\n",
        "import pandas as pd\n",
        "from fastai.text.all import *\n",
        "from transformers import *\n",
        "\n",
        "from blurr.data.all import *\n",
        "from blurr.modeling.all import *\n",
        "\n",
        "pretrained_model_name = \"hyunwoongko/kobart\"\n",
        "hf_arch, hf_config, hf_tokenizer, hf_model = BLURR.get_hf_objects(pretrained_model_name, \n",
        "                                                                  model_cls=BartForConditionalGeneration)\n",
        "\n",
        "hf_arch, type(hf_config), type(hf_tokenizer), type(hf_model)"
      ],
      "execution_count": null,
      "outputs": [
        {
          "output_type": "display_data",
          "data": {
            "application/vnd.jupyter.widget-view+json": {
              "model_id": "2333f9277c894cb694b7f2e4294143da",
              "version_minor": 0,
              "version_major": 2
            },
            "text/plain": [
              "Downloading:   0%|          | 0.00/1.08k [00:00<?, ?B/s]"
            ]
          },
          "metadata": {}
        },
        {
          "output_type": "display_data",
          "data": {
            "application/vnd.jupyter.widget-view+json": {
              "model_id": "d3d57d4616a44a479a49df0ef750719e",
              "version_minor": 0,
              "version_major": 2
            },
            "text/plain": [
              "Downloading:   0%|          | 0.00/109 [00:00<?, ?B/s]"
            ]
          },
          "metadata": {}
        },
        {
          "output_type": "display_data",
          "data": {
            "application/vnd.jupyter.widget-view+json": {
              "model_id": "94d73b8630cc4a6792d052057cd4f97f",
              "version_minor": 0,
              "version_major": 2
            },
            "text/plain": [
              "Downloading:   0%|          | 0.00/436k [00:00<?, ?B/s]"
            ]
          },
          "metadata": {}
        },
        {
          "output_type": "display_data",
          "data": {
            "application/vnd.jupyter.widget-view+json": {
              "model_id": "701ee6bf79ae4fb28897732c2e5d2381",
              "version_minor": 0,
              "version_major": 2
            },
            "text/plain": [
              "Downloading:   0%|          | 0.00/172k [00:00<?, ?B/s]"
            ]
          },
          "metadata": {}
        },
        {
          "output_type": "display_data",
          "data": {
            "application/vnd.jupyter.widget-view+json": {
              "model_id": "5e2d5b9bc51641b0ad3eb01b95e2c195",
              "version_minor": 0,
              "version_major": 2
            },
            "text/plain": [
              "Downloading:   0%|          | 0.00/666k [00:00<?, ?B/s]"
            ]
          },
          "metadata": {}
        },
        {
          "output_type": "display_data",
          "data": {
            "application/vnd.jupyter.widget-view+json": {
              "model_id": "4be4024577cb4e898587fa11d1854174",
              "version_minor": 0,
              "version_major": 2
            },
            "text/plain": [
              "Downloading:   0%|          | 0.00/2.00 [00:00<?, ?B/s]"
            ]
          },
          "metadata": {}
        },
        {
          "output_type": "display_data",
          "data": {
            "application/vnd.jupyter.widget-view+json": {
              "model_id": "377acfb4111a4910aeece847d24c1cb7",
              "version_minor": 0,
              "version_major": 2
            },
            "text/plain": [
              "Downloading:   0%|          | 0.00/85.0 [00:00<?, ?B/s]"
            ]
          },
          "metadata": {}
        },
        {
          "output_type": "display_data",
          "data": {
            "application/vnd.jupyter.widget-view+json": {
              "model_id": "cc8b4263d9794fb29aa596fb31d6376d",
              "version_minor": 0,
              "version_major": 2
            },
            "text/plain": [
              "Downloading:   0%|          | 0.00/473M [00:00<?, ?B/s]"
            ]
          },
          "metadata": {}
        },
        {
          "output_type": "execute_result",
          "data": {
            "text/plain": [
              "('bart',\n",
              " transformers.models.bart.configuration_bart.BartConfig,\n",
              " transformers.models.bart.tokenization_bart_fast.BartTokenizerFast,\n",
              " transformers.models.bart.modeling_bart.BartForConditionalGeneration)"
            ]
          },
          "metadata": {},
          "execution_count": 7
        }
      ]
    },
    {
      "cell_type": "code",
      "metadata": {
        "id": "sdXfrvadFNyD",
        "colab": {
          "base_uri": "https://localhost:8080/"
        },
        "outputId": "fe673343-66a2-4b95-c201-56f7fa1a7e63"
      },
      "source": [
        "text_gen_kwargs = default_text_gen_kwargs(hf_config, hf_model, task='summarization')\n",
        "text_gen_kwargs['max_length'] = 80\n",
        "text_gen_kwargs['min_length'] = 20\n",
        "\n",
        "text_gen_kwargs"
      ],
      "execution_count": null,
      "outputs": [
        {
          "output_type": "execute_result",
          "data": {
            "text/plain": [
              "{'bad_words_ids': None,\n",
              " 'bos_token_id': 0,\n",
              " 'decoder_start_token_id': 2,\n",
              " 'diversity_penalty': 0.0,\n",
              " 'do_sample': False,\n",
              " 'early_stopping': False,\n",
              " 'encoder_no_repeat_ngram_size': 0,\n",
              " 'eos_token_id': 1,\n",
              " 'forced_bos_token_id': None,\n",
              " 'forced_eos_token_id': 2,\n",
              " 'length_penalty': 1.0,\n",
              " 'max_length': 80,\n",
              " 'min_length': 20,\n",
              " 'no_repeat_ngram_size': 0,\n",
              " 'num_beam_groups': 1,\n",
              " 'num_beams': 1,\n",
              " 'num_return_sequences': 1,\n",
              " 'output_attentions': False,\n",
              " 'output_hidden_states': False,\n",
              " 'output_scores': False,\n",
              " 'pad_token_id': 3,\n",
              " 'remove_invalid_values': False,\n",
              " 'repetition_penalty': 1.0,\n",
              " 'return_dict_in_generate': False,\n",
              " 'temperature': 1.0,\n",
              " 'top_k': 50,\n",
              " 'top_p': 1.0,\n",
              " 'use_cache': True}"
            ]
          },
          "metadata": {},
          "execution_count": 8
        }
      ]
    },
    {
      "cell_type": "code",
      "metadata": {
        "id": "SPrnDPKkFQPw"
      },
      "source": [
        "hf_batch_tfm = HF_Seq2SeqBeforeBatchTransform(hf_arch, hf_config, hf_tokenizer, hf_model, \n",
        "                                              max_length=650, max_tgt_length=130, text_gen_kwargs=text_gen_kwargs)\n",
        "\n",
        "blocks = (HF_Seq2SeqBlock(before_batch_tfm=hf_batch_tfm), noop)\n",
        "\n",
        "dblock = DataBlock(blocks=blocks, get_x=ColReader('article'), get_y=ColReader('abstractive'), splitter=RandomSplitter())"
      ],
      "execution_count": null,
      "outputs": []
    },
    {
      "cell_type": "code",
      "metadata": {
        "id": "3W_lbUPRFRit"
      },
      "source": [
        "dls = dblock.dataloaders(df, bs=2)"
      ],
      "execution_count": null,
      "outputs": []
    },
    {
      "cell_type": "code",
      "metadata": {
        "id": "p87WBPxNFSqP",
        "colab": {
          "base_uri": "https://localhost:8080/"
        },
        "outputId": "f8725de9-fcca-4d9b-beda-d3eaa99988fe"
      },
      "source": [
        "len(dls.train.items), len(dls.valid.items)"
      ],
      "execution_count": null,
      "outputs": [
        {
          "output_type": "execute_result",
          "data": {
            "text/plain": [
              "(64000, 16000)"
            ]
          },
          "metadata": {},
          "execution_count": 11
        }
      ]
    },
    {
      "cell_type": "code",
      "metadata": {
        "id": "JPQ1cGIGFTuJ",
        "colab": {
          "base_uri": "https://localhost:8080/"
        },
        "outputId": "e284a8ce-3aa9-4ae4-dc78-d291ce4b1667"
      },
      "source": [
        "b = dls.one_batch()\n",
        "len(b), b[0]['input_ids'].shape, b[1].shape"
      ],
      "execution_count": null,
      "outputs": [
        {
          "output_type": "execute_result",
          "data": {
            "text/plain": [
              "(2, torch.Size([2, 650]), torch.Size([2, 43]))"
            ]
          },
          "metadata": {},
          "execution_count": 12
        }
      ]
    },
    {
      "cell_type": "code",
      "metadata": {
        "id": "fm3EPPyCFUqZ",
        "colab": {
          "base_uri": "https://localhost:8080/",
          "height": 502
        },
        "outputId": "2772e9a2-639a-477f-c087-b500e6e13d18"
      },
      "source": [
        "dls.show_batch(dataloaders=dls, max_n=2)"
      ],
      "execution_count": null,
      "outputs": [
        {
          "output_type": "display_data",
          "data": {
            "text/html": [
              "<table border=\"1\" class=\"dataframe\">\n",
              "  <thead>\n",
              "    <tr style=\"text-align: right;\">\n",
              "      <th></th>\n",
              "      <th>text</th>\n",
              "      <th>target</th>\n",
              "    </tr>\n",
              "  </thead>\n",
              "  <tbody>\n",
              "    <tr>\n",
              "      <th>0</th>\n",
              "      <td>고등학생도 대학생처럼 자신이 원하는 과목을 골라 듣는 고교학점제가 내년부터 전국 51개 마이스터고 학생들을 대상으로 먼저 시작한다. 올해 초등 4학년생이 고교생이 되는 2025년에 고교학점제가 전면 시행되는 점을 고려해 교육과정이 비교적 탄력적인 마이스터고를 대상으로 미리 학점제를 도입해 정책 완성도를 높인다는 방침이다. 다만 졸업제도와 평가방식 등에 근본적인 변화가 아직 이뤄지지 않아 한계가 있다는 지적이다. 교육부는 21일 정부서울청사에서 이러한 내용의 '2020학년도 마이스터고 고교학점제 도입방안'을 발표했다. 문재인 정부의 국정과제인 고교학점제는 학생이 진로에 따라 원하는 과목을 선택·이수하고, 누적학점이 기준에 도달하면 졸업을 인정받는 제도다. 교육부는 마이스터고가 산업현장을 중심으로 이미 교육과정을 탄력적으로 운영하는 만큼 고교학점제를 우선 도입하기에 적합하다고 판단했다. 다만 유연성 확보를 위해 마이스터고 교육과정 이수 기준을 '단위'에서 '학점'으로 전환하고, 1학점 당 수업량을 현행 17회에서 16회로 줄였다. 총 이수학점도 현행 204단위에서 192학점으로 적정화해 수업시간을 줄인다. 박백범 교육부 차관은 \"(줄어든 시간만큼) 학교 자율운영과목의 확대, 학교 밖 학습경험 및 공동교육과정 운영활성화 등 학생 맞춤형 교육을 실현할 수 있는 여건을 조성할 것\"이라며 \"산업체, 대학 및 전문대학, 지역교육시설 등 지역사회 학습장을 활용한 다양한 학교 밖 학습경험을 학점으로 인정할 예정\"이라고 밝혔다. '융합형 인재' 양성을 위해 다른 전공의 수업을 들을 수 있는 제도도 마련한다. 전공 외 학과 수업을 24학점 이상 들으면 대학생처럼 '부전공'으로 인정해주는 등 학과별 칸막이를 허문다. 또 한 학과 안에서도 국가직무능력표준(NCS) 기반 교육과정과 연계한 세부 직무경로를 개설해 해당 분야에 필요한 전문 인력 양성을 추진한다. 전자과에서 소프트웨어과 과목을 수강하거나, 소프트웨어과 안에 소프트웨어개발과정과 정보보안 과정으로 세분화하는 식이다. 교육부는 수업별로 성취도가 떨어지는 학생들에 대비해 성취평가제(절대평가) 적용 일정에 따라 이수·미이수제(pass/fail)를 단계적으로 적용할 방침이다. 그러나 학점제를 먼저 도입하는 마이스터고는 전문교과 II만 성취평가제를 도입하고 나머지 교과는 우선 책임지도를 통해 학생들이 수업을 따라올 수 있도록 관리하기로 했다. 성취도는 A부터 E까지 다섯 단계로 나누고, E수준 범위 이내에서 최소 성취수준을 정한 뒤 이에 도달하지 못할 가능성이 높은 학생에 보충학습 등 '책임지도'를 실시한다. 고교학점제도 성공 여부에 핵심이 될 교원 전문성 강화를 위해서는 산학겸임교사 등 현장전문가의 교육 활동 참여를 확대한다. 또 취업지원인력과 진로전담교사를 2022년까지 모든 학교에 배치할 예정이다. 박 차관은 \"기존교사들은 주전공에 부전공 확대할 수 있도록 연수기회를 주고, 자기 전공에 대해서도 사내 현장 교육을 통해 심화할 수 있도록 할 것\"이라고 설명했다. 그러나 일각에서는 현직 교사들의 적극적인 참여를 이끌기에는 약하다는 비판도 제기됐다. 익명을 요구한 현직 마이스터고 교사 A씨는 \"학년부장 등 중요한 역할을 수행해야 할 중견교사일수록 새로운 걸 배우길</td>\n",
              "      <td>고교학점제가 내년부터 전국 51개 마이스터고 학생들을 대상으로 미리 도입하여  시행해 졸업제도와 평가방식 등에 근본적인 변화에 대한 한계를 보완하여 정책 완성도를 높일 계획이다.</td>\n",
              "    </tr>\n",
              "    <tr>\n",
              "      <th>1</th>\n",
              "      <td>고창군의회(의장 조규철)는 ‘현장에서 군민과 소통하며 함께하는 의회’를 슬로건으로 희망과 믿음을 주는 신뢰와 혁신의 의정활동을 펼치고 2019년 한 해 동안의 의정활동을 마무리 하였다. 군민에게 생생하고 여과 없는 민의수렴을 통하여 군민이 직접 참여하고 체감하는 투명한 열린 의정을 실현하며, 능동적이고 적극적인 의정운영으로 군민의 뜻을 바르게 대변하는 데 총력을 기울였다. 특히 ‘5.18 민주화운동 망언 자유한국당 규탄 결의문’을 채택하여 5.18 민주화운동 피해자과 가족 그리고 모든 국민을 향한 공개 사죄를 강력히 요구 하였으며, ‘고창군 평생학습도시 조성을 위한 결의문’을 채택하여 군민 누구에게나 열린 학습기회를 제공하고 자아실현을 위한 평생학습도시 구축을 지원하였다. ‘정읍시의회 동학농민혁명 특별법 개정 및 교과서 오류 수정 촉구 건의문에 대한 반대 건의안’을 통해 역사 왜곡에 강력히 반발 하였다. 또한 고창군의 자연경관은 우리 모두가 가꾸어야 자산으로 자연을 훼손하는 태양광발전소 설치와 같은 에너지 시설 허가를 반대하며 ‘심원면 염전부지 태양광 발전 시설 설치 반대 결의문’을 채택하였다. 그 외에도 ‘일본정부의 경제보복에 대한 규탄 결의문’ 채택 하였으며, 한빛원자력발전소 특별조사위원회에서는 ‘사용 후 핵연료 관리정책 재검토위원회’ 출범을 규탄하는 집회에 참석하여 구성방안에 대한 반대 입장을 표명하였으며, 한빛원자력 본부에 방문하여 ‘한빛원전 1호기 원자로 수동정지’와 관련해 현장 확인을 실시하고 안전문제에 대한 지역여론을 전달하였다. 아울러 정례회 시 본회의장에 300여명의 군민이 방청하여 의정활동을 함께 호흡하며 군민이 자발적으로 의정활동에 참여 할 수 있도록 유도하였다. 군정의 발전방안을 제시하고 정책 대안자로서 미래 지향적인 고창군을 위해 1차, 2차 정례회 시 군정질문 41건, 5분 자유발언 4건 등으로 군민의 의견을 반영 하고 행정사무감사를 통해 총 81건을 지적하고 개선을 요구하여 행정의 투명성과 효과성을 높이기 위해 노력했다. 올 한 해 동안 고창군의회는 두 차례의 정례회와 여섯 차례의 임시회를 통해 총 91일간의 회기 일정을 소화하며 조례안 80건, 예산 및 결산 9건, 결의안 5건, 동의안 21건, 건의안 1건, 기타 안건 29건 등 총 145건의 각종 안건을 처리하여 군민과 밀접하게 관련되어 있는 법규 등을 정비하였고, 총 2회에 걸쳐 주요 사업장 방문 및 주민과의 공감대화 등을 통해 현장에서의 고충과 애로를 청취하고 의견을 적극 수렴해 군정의 효율적 통제와 재정민주화 실현을 위해 힘썼다. 전년도 예산의 효율적 집행여부, 사업효과 등을 총체적으로 검토해 2020년도 본예산 6,302억원을 의결하였으며, 군민을 위한 예산이 적재적소에 편성 될 수 있도록 최선을 다했다. 총 10회의 의원간담회를 추진하여 비 회기동안에도 연속성 있는 의정활동을 전개하고 지역 현안에 대한 집행기관과의 상시 대화체계를 유지해 상호 이해증진을 도모하는 등 의원들이 함께 군정을 이해하고 대안을 마련하는 기회로 삼아 보다 역동적인 의정활동을 펼치는 계기를 마련했다. 조규철</td>\n",
              "      <td>고창군의회는 '현장에서 군민과 소통하는 의회'를 슬로건을 바탕으로 5.18 민주화운동 망언에 대한 자유한국당 규탄 결의문을 채택하고 평생학습도시 구축을 지원하는 등 군민이 직접 참여하고 체감하는 열린 의정을 실현하며 2019 의정활동을 마무리 했다.</td>\n",
              "    </tr>\n",
              "  </tbody>\n",
              "</table>"
            ],
            "text/plain": [
              "<IPython.core.display.HTML object>"
            ]
          },
          "metadata": {}
        }
      ]
    },
    {
      "cell_type": "code",
      "metadata": {
        "id": "tlm4LzD_FZ7M"
      },
      "source": [
        ""
      ],
      "execution_count": null,
      "outputs": []
    },
    {
      "cell_type": "code",
      "metadata": {
        "id": "dH8PiHuyFZ3V"
      },
      "source": [
        "seq2seq_metrics = {\n",
        "        'rouge': {\n",
        "            'compute_kwargs': { 'rouge_types': [\"rouge1\", \"rouge2\", \"rougeL\"], 'use_stemmer': True },\n",
        "            'returns': [\"rouge1\", \"rouge2\", \"rougeL\"]\n",
        "        },\n",
        "        'bertscore': {\n",
        "            'compute_kwargs': { 'lang': 'en' },\n",
        "            'returns': [\"precision\", \"recall\", \"f1\"]\n",
        "        }\n",
        "    }"
      ],
      "execution_count": null,
      "outputs": []
    },
    {
      "cell_type": "code",
      "metadata": {
        "id": "SE-37YyeFZ0s",
        "colab": {
          "base_uri": "https://localhost:8080/",
          "height": 81,
          "referenced_widgets": [
            "9e035537c7ff413daf3857205b44951a",
            "e536701d020d472ba5fd8267d549e158"
          ]
        },
        "outputId": "42fd285b-ebe0-4f3f-c4a5-25ac03aa305a"
      },
      "source": [
        "model = HF_BaseModelWrapper(hf_model)\n",
        "learn_cbs = [HF_BaseModelCallback]\n",
        "fit_cbs = [HF_Seq2SeqMetricsCallback(custom_metrics=seq2seq_metrics)]\n",
        "\n",
        "learn = Learner(dls, \n",
        "                model,\n",
        "                opt_func=ranger,\n",
        "                loss_func=CrossEntropyLossFlat(),\n",
        "                cbs=learn_cbs,\n",
        "                splitter=partial(seq2seq_splitter, arch=hf_arch)).to_fp16()\n",
        "\n",
        "learn.create_opt() \n",
        "learn.freeze()"
      ],
      "execution_count": null,
      "outputs": [
        {
          "output_type": "display_data",
          "data": {
            "application/vnd.jupyter.widget-view+json": {
              "model_id": "9e035537c7ff413daf3857205b44951a",
              "version_minor": 0,
              "version_major": 2
            },
            "text/plain": [
              "Downloading:   0%|          | 0.00/2.17k [00:00<?, ?B/s]"
            ]
          },
          "metadata": {}
        },
        {
          "output_type": "display_data",
          "data": {
            "application/vnd.jupyter.widget-view+json": {
              "model_id": "e536701d020d472ba5fd8267d549e158",
              "version_minor": 0,
              "version_major": 2
            },
            "text/plain": [
              "Downloading:   0%|          | 0.00/2.93k [00:00<?, ?B/s]"
            ]
          },
          "metadata": {}
        }
      ]
    },
    {
      "cell_type": "code",
      "metadata": {
        "id": "HI9rc61ZFZxt",
        "colab": {
          "base_uri": "https://localhost:8080/",
          "height": 300
        },
        "outputId": "8c722a87-05c7-4a12-cfd0-bc30de00bb17"
      },
      "source": [
        "learn.lr_find()"
      ],
      "execution_count": null,
      "outputs": [
        {
          "output_type": "display_data",
          "data": {
            "text/html": [
              ""
            ],
            "text/plain": [
              "<IPython.core.display.HTML object>"
            ]
          },
          "metadata": {}
        },
        {
          "output_type": "execute_result",
          "data": {
            "text/plain": [
              "SuggestedLRs(valley=0.0003311311302240938)"
            ]
          },
          "metadata": {},
          "execution_count": 16
        },
        {
          "output_type": "display_data",
          "data": {
            "image/png": "[encoded data removed]",
            "text/plain": [
              "<Figure size 432x288 with 1 Axes>"
            ]
          },
          "metadata": {
            "needs_background": "light"
          }
        }
      ]
    },
    {
      "cell_type": "code",
      "metadata": {
        "id": "vXppTJJBFc0U",
        "colab": {
          "base_uri": "https://localhost:8080/"
        },
        "outputId": "3b8d2933-d93f-41c4-a12f-140868f802c2"
      },
      "source": [
        "b = dls.one_batch()\n",
        "preds = learn.model(b[0])\n",
        "len(preds),preds[0], preds[1].shape"
      ],
      "execution_count": null,
      "outputs": [
        {
          "output_type": "execute_result",
          "data": {
            "text/plain": [
              "(4,\n",
              " tensor(11.6136, device='cuda:0', grad_fn=<NllLossBackward>),\n",
              " torch.Size([2, 38, 30000]))"
            ]
          },
          "metadata": {},
          "execution_count": 17
        }
      ]
    },
    {
      "cell_type": "code",
      "metadata": {
        "id": "EAZ37Q7LFfKk",
        "colab": {
          "base_uri": "https://localhost:8080/",
          "height": 95
        },
        "outputId": "afd2936c-2a7e-4fd5-a9a4-85eebf8418b1"
      },
      "source": [
        "learn.fit_one_cycle(1, lr_max=3e-5, cbs=fit_cbs)"
      ],
      "execution_count": null,
      "outputs": [
        {
          "output_type": "display_data",
          "data": {
            "text/html": [
              "\n",
              "    <div>\n",
              "        <style>\n",
              "            /* Turns off some styling */\n",
              "            progress {\n",
              "                /* gets rid of default border in Firefox and Opera. */\n",
              "                border: none;\n",
              "                /* Needs to be in here for Safari polyfill so background images work as expected. */\n",
              "                background-size: auto;\n",
              "            }\n",
              "            .progress-bar-interrupted, .progress-bar-interrupted::-webkit-progress-bar {\n",
              "                background: #F44336;\n",
              "            }\n",
              "        </style>\n",
              "      <progress value='0' class='' max='1' style='width:300px; height:20px; vertical-align: middle;'></progress>\n",
              "      0.00% [0/1 00:00<00:00]\n",
              "    </div>\n",
              "    \n",
              "<table border=\"1\" class=\"dataframe\">\n",
              "  <thead>\n",
              "    <tr style=\"text-align: left;\">\n",
              "      <th>epoch</th>\n",
              "      <th>train_loss</th>\n",
              "      <th>valid_loss</th>\n",
              "      <th>rouge1</th>\n",
              "      <th>rouge2</th>\n",
              "      <th>rougeL</th>\n",
              "      <th>bertscore_precision</th>\n",
              "      <th>bertscore_recall</th>\n",
              "      <th>bertscore_f1</th>\n",
              "      <th>time</th>\n",
              "    </tr>\n",
              "  </thead>\n",
              "  <tbody>\n",
              "  </tbody>\n",
              "</table><p>\n",
              "\n",
              "    <div>\n",
              "        <style>\n",
              "            /* Turns off some styling */\n",
              "            progress {\n",
              "                /* gets rid of default border in Firefox and Opera. */\n",
              "                border: none;\n",
              "                /* Needs to be in here for Safari polyfill so background images work as expected. */\n",
              "                background-size: auto;\n",
              "            }\n",
              "            .progress-bar-interrupted, .progress-bar-interrupted::-webkit-progress-bar {\n",
              "                background: #F44336;\n",
              "            }\n",
              "        </style>\n",
              "      <progress value='14776' class='' max='32000' style='width:300px; height:20px; vertical-align: middle;'></progress>\n",
              "      46.17% [14776/32000 2:24:11<2:48:04 2.0321]\n",
              "    </div>\n",
              "    "
            ],
            "text/plain": [
              "<IPython.core.display.HTML object>"
            ]
          },
          "metadata": {}
        }
      ]
    },
    {
      "cell_type": "code",
      "metadata": {
        "id": "uuJQeoc7FgWK"
      },
      "source": [
        "learn.show_results(learner=learn, max_n=2)"
      ],
      "execution_count": null,
      "outputs": []
    },
    {
      "cell_type": "code",
      "metadata": {
        "id": "HvUQelIGKR9f"
      },
      "source": [
        "ls"
      ],
      "execution_count": null,
      "outputs": []
    },
    {
      "cell_type": "code",
      "metadata": {
        "id": "pUYbmYL4Y9Fu",
        "colab": {
          "base_uri": "https://localhost:8080/",
          "height": 137
        },
        "outputId": "0fc0dd7f-8dad-4342-e622-31326136d01a"
      },
      "source": [
        "import pandas as pd\n",
        "import re\n",
        "\n",
        "reviews = pd.read_csv(\"/content/drive/Shareddrives/KLUE Summarization/klue crawling/aggregated.csv\")\n",
        "org_input = \"\"\"\"\"\" + reviews['evaluation'][0]\n",
        "\n",
        "org_input = re.sub('\\n', ' ', org_input)\n",
        "org_input"
      ],
      "execution_count": null,
      "outputs": [
        {
          "output_type": "execute_result",
          "data": {
            "application/vnd.google.colaboratory.intrinsic+json": {
              "type": "string"
            },
            "text/plain": [
              "'수업 내용이 어려운 부분이 있지만, 교수님께서 질문에 대해 응답 잘 해주셔서 제 고민 많이 해결해주셨습니다. 귀여우시는분이세요..완전 꿀이에요!! 수업만 잘 따라가시면 하루 전날 공부해도 무리없습니다 ㅎㅎ 박경삼 교수님도 정말 좋으세요평가내용 ; 팀플 한 번 시험 두번  팀플 피드백 꽤 꼼꼼히 해주시고 변별력 있음 (잘하면 좋아요)  경영과학 특성상 잘하는 사람은 무지 편한데 안 맞으면 중간부터 좀 멘붕일 수 있어요.  그래도 교수님 설명은 깔끔하고 정확하신 편입니다. 추천!필요한 걸 배우는데 그게 또 너무 쉽고 재밌어요 경영학과 전선 중에 제일 좋았어요 교수님도 너무 좋아요,,,,,,, 교수님 개그도 웃겨요수업에서는 엑셀 실습을 주로 하지만 시험은 관련된 모델링 식을 세우는 내용이 주를 이룬다. 처음에는 평소하던 것과 다른 것을 시험으로 본다고 하셔서 약간 혼란스러웠지만 수식을 세우는데에 어려움을 겪지 않는다면 수업을 듣고 시험을 치는데에 큰 어려움이 없을 것 같다.강의가 재미있다. 내용도 재미있다. 온라인강의 특성상 넋놓고 헤 하는게 국룰인데 교수님 따라서 엑셀 조물조물대니 참으로 재미지다. 쁠은 잘 안붙혀주신다. 학점인플레 심하다. 가끔 아재개그 하시면 배를 잡고 깔깔 웃는다.강의 너무 유익했고 해당 강의의 경우 타 강의는 중간고사와 기말고사 기간동안 수업이 진행되었으나 그러지 않았으므로 너무 좋았습니다. 이후 들으실 분은 꼭 들어보시라고 강력 추천드립니다경영과학이라는 새로운 전공에 흥미를 가질 수 있는 기회입니다. 수업 내용은 어렵지 않지만, 엑셀 다루는 게 재미있어서 성취감은 나름 있는 것 같아요. 시험 문제는 엑셀 전혀 다루지 않고 모델링만 할 줄 알면 됩니다. 중간고사는 매우 쉽고 기말은 한 문제 정도 어려웠네요. 교수님이 워낙 좋으셔서 한 학기동안 부담 없이 재미있게 전공 탐색한 느낌입니다.중간고사를 망쳐서 걱정했는데 기말고사 90점 받았더니 A0 주셨습니다. 교수님께서 너무 좋으시고 학생들 배려 많이 해주셔서 한학기 동안 정말 좋았습니다. 들을 수만 있다면 무조건 들으세요.우선 교수님이 경영대 최강 귀요미이심.  경영과학이라는 학문 자체는 어려울 수 있으나 학부생 수준에서 필요한 내용만 꼼꼼히 그러나 쉽게 알려주심. 시험- 중간이 쉬웠어서 그런지 (만점이 수강생 40%) 기말은 조금 까다롭게 내셨지만 (85점인가 받음) 결국 최종 학점은 에쁠. 내용이 많지도 어렵지도 않아서 적은 투입으로 좋은 학점을 받을 수 있음.'"
            ]
          },
          "metadata": {},
          "execution_count": 7
        }
      ]
    },
    {
      "cell_type": "code",
      "metadata": {
        "id": "IypFzFPNQM3t"
      },
      "source": [
        "outputs = learn.blurr_generate(org_input, early_stopping=True, num_beams=4, num_return_sequences=3)\n",
        "\n",
        "for idx, o in enumerate(outputs):\n",
        "    print(f'=== Prediction {idx+1} ===\\n{o}\\n')"
      ],
      "execution_count": null,
      "outputs": []
    },
    {
      "cell_type": "code",
      "metadata": {
        "id": "yUdAsy3lQMzU"
      },
      "source": [
        "learn.metrics = None\n",
        "learn.export(fname='news_summary3.pkl')"
      ],
      "execution_count": null,
      "outputs": []
    },
    {
      "cell_type": "code",
      "metadata": {
        "id": "UiDOF_QqY6sU"
      },
      "source": [
        "pwd"
      ],
      "execution_count": null,
      "outputs": []
    },
    {
      "cell_type": "code",
      "metadata": {
        "id": "Qi4RNzZWFmca"
      },
      "source": [
        "inf_learn = load_learner(fname='news_summary3.pkl')\n",
        "inf_learn.blurr_generate(org_input)"
      ],
      "execution_count": null,
      "outputs": []
    }
  ]
}