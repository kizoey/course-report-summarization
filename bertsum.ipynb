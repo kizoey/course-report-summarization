{
  "nbformat": 4,
  "nbformat_minor": 0,
  "metadata": {
    "colab": {
      "name": "BertShared_Generate.ipynb",
      "provenance": [],
      "collapsed_sections": []
    },
    "kernelspec": {
      "name": "python3",
      "display_name": "Python 3"
    },
    "language_info": {
      "name": "python"
    },
    "accelerator": "GPU"
  },
  "cells": [
    {
      "cell_type": "code",
      "metadata": {
        "colab": {
          "base_uri": "https://localhost:8080/"
        },
        "id": "Vch_7zzq1wJg",
        "outputId": "0e47a782-2352-4709-c823-a53d4e8d5365"
      },
      "source": [
        "import sys\n",
        "print(sys.version)"
      ],
      "execution_count": null,
      "outputs": [
        {
          "output_type": "stream",
          "name": "stdout",
          "text": [
            "3.7.12 (default, Sep 10 2021, 00:21:48) \n",
            "[GCC 7.5.0]\n"
          ]
        }
      ]
    },
    {
      "cell_type": "code",
      "metadata": {
        "colab": {
          "base_uri": "https://localhost:8080/"
        },
        "id": "LRdvmj_F9W2K",
        "outputId": "c29219f7-5dca-4d79-da6e-a7cf445ac850"
      },
      "source": [
        "from google.colab import drive\n",
        "drive.mount('/content/drive')"
      ],
      "execution_count": null,
      "outputs": [
        {
          "output_type": "stream",
          "name": "stdout",
          "text": [
            "Mounted at /content/drive\n"
          ]
        }
      ]
    },
    {
      "cell_type": "code",
      "metadata": {
        "colab": {
          "base_uri": "https://localhost:8080/"
        },
        "id": "nwuCEG-o9fcT",
        "outputId": "7f1f2c4d-1e07-4ec4-acf4-1aaf02ec61e4"
      },
      "source": [
        "!ls -l --block-size=K  '/content/drive/Shareddrives/KLUE Summarization/모델링/klue_sum_model_save'"
      ],
      "execution_count": null,
      "outputs": [
        {
          "output_type": "stream",
          "name": "stdout",
          "text": [
            "total 576565K\n",
            "-rw------- 1 root root      5K Oct 12 05:13 config.json\n",
            "-rw------- 1 root root 575567K Oct 12 05:13 pytorch_model.bin\n",
            "-rw------- 1 root root      1K Oct 12 05:13 special_tokens_map.json\n",
            "-rw------- 1 root root      1K Oct 12 05:13 tokenizer_config.json\n",
            "-rw------- 1 root root    656K Oct 12 05:13 tokenizer.json\n",
            "-rw------- 1 root root    337K Oct 12 05:13 vocab.txt\n"
          ]
        }
      ]
    },
    {
      "cell_type": "code",
      "metadata": {
        "colab": {
          "base_uri": "https://localhost:8080/"
        },
        "id": "2uiS6mWk93la",
        "outputId": "2ff5cdfb-bee7-4c10-cb34-c927832548aa"
      },
      "source": [
        "!pip install transformers"
      ],
      "execution_count": null,
      "outputs": [
        {
          "output_type": "stream",
          "name": "stdout",
          "text": [
            "Collecting transformers\n",
            "  Downloading transformers-4.11.3-py3-none-any.whl (2.9 MB)\n",
            "\u001b[K     |████████████████████████████████| 2.9 MB 5.4 MB/s \n",
            "\u001b[?25hCollecting huggingface-hub>=0.0.17\n",
            "  Downloading huggingface_hub-0.0.19-py3-none-any.whl (56 kB)\n",
            "\u001b[K     |████████████████████████████████| 56 kB 4.2 MB/s \n",
            "\u001b[?25hRequirement already satisfied: numpy>=1.17 in /usr/local/lib/python3.7/dist-packages (from transformers) (1.19.5)\n",
            "Collecting pyyaml>=5.1\n",
            "  Downloading PyYAML-5.4.1-cp37-cp37m-manylinux1_x86_64.whl (636 kB)\n",
            "\u001b[K     |████████████████████████████████| 636 kB 46.5 MB/s \n",
            "\u001b[?25hCollecting sacremoses\n",
            "  Downloading sacremoses-0.0.46-py3-none-any.whl (895 kB)\n",
            "\u001b[K     |████████████████████████████████| 895 kB 42.9 MB/s \n",
            "\u001b[?25hRequirement already satisfied: filelock in /usr/local/lib/python3.7/dist-packages (from transformers) (3.3.0)\n",
            "Collecting tokenizers<0.11,>=0.10.1\n",
            "  Downloading tokenizers-0.10.3-cp37-cp37m-manylinux_2_5_x86_64.manylinux1_x86_64.manylinux_2_12_x86_64.manylinux2010_x86_64.whl (3.3 MB)\n",
            "\u001b[K     |████████████████████████████████| 3.3 MB 36.9 MB/s \n",
            "\u001b[?25hRequirement already satisfied: tqdm>=4.27 in /usr/local/lib/python3.7/dist-packages (from transformers) (4.62.3)\n",
            "Requirement already satisfied: regex!=2019.12.17 in /usr/local/lib/python3.7/dist-packages (from transformers) (2019.12.20)\n",
            "Requirement already satisfied: packaging>=20.0 in /usr/local/lib/python3.7/dist-packages (from transformers) (21.0)\n",
            "Requirement already satisfied: importlib-metadata in /usr/local/lib/python3.7/dist-packages (from transformers) (4.8.1)\n",
            "Requirement already satisfied: requests in /usr/local/lib/python3.7/dist-packages (from transformers) (2.23.0)\n",
            "Requirement already satisfied: typing-extensions in /usr/local/lib/python3.7/dist-packages (from huggingface-hub>=0.0.17->transformers) (3.7.4.3)\n",
            "Requirement already satisfied: pyparsing>=2.0.2 in /usr/local/lib/python3.7/dist-packages (from packaging>=20.0->transformers) (2.4.7)\n",
            "Requirement already satisfied: zipp>=0.5 in /usr/local/lib/python3.7/dist-packages (from importlib-metadata->transformers) (3.6.0)\n",
            "Requirement already satisfied: urllib3!=1.25.0,!=1.25.1,<1.26,>=1.21.1 in /usr/local/lib/python3.7/dist-packages (from requests->transformers) (1.24.3)\n",
            "Requirement already satisfied: certifi>=2017.4.17 in /usr/local/lib/python3.7/dist-packages (from requests->transformers) (2021.5.30)\n",
            "Requirement already satisfied: chardet<4,>=3.0.2 in /usr/local/lib/python3.7/dist-packages (from requests->transformers) (3.0.4)\n",
            "Requirement already satisfied: idna<3,>=2.5 in /usr/local/lib/python3.7/dist-packages (from requests->transformers) (2.10)\n",
            "Requirement already satisfied: joblib in /usr/local/lib/python3.7/dist-packages (from sacremoses->transformers) (1.0.1)\n",
            "Requirement already satisfied: click in /usr/local/lib/python3.7/dist-packages (from sacremoses->transformers) (7.1.2)\n",
            "Requirement already satisfied: six in /usr/local/lib/python3.7/dist-packages (from sacremoses->transformers) (1.15.0)\n",
            "Installing collected packages: pyyaml, tokenizers, sacremoses, huggingface-hub, transformers\n",
            "  Attempting uninstall: pyyaml\n",
            "    Found existing installation: PyYAML 3.13\n",
            "    Uninstalling PyYAML-3.13:\n",
            "      Successfully uninstalled PyYAML-3.13\n",
            "Successfully installed huggingface-hub-0.0.19 pyyaml-5.4.1 sacremoses-0.0.46 tokenizers-0.10.3 transformers-4.11.3\n"
          ]
        }
      ]
    },
    {
      "cell_type": "code",
      "metadata": {
        "id": "b5lMZ-P0-5K5"
      },
      "source": [
        "from transformers import BertTokenizerFast, EncoderDecoderModel"
      ],
      "execution_count": null,
      "outputs": []
    },
    {
      "cell_type": "code",
      "metadata": {
        "id": "yqT_Pp3--Lx0"
      },
      "source": [
        "from os import truncate\n",
        "# https://colab.research.google.com/github/kiyoungkim1/LMkor/blob/main/notebooks/summarization_with_bertshared.ipynb#scrollTo=atpZXK1ioMDa\n",
        "# https://github.com/kiyoungkim1/LMkor/blob/main/examples/bertshared_summarization.py\n",
        "\n",
        "class Summarize():\n",
        "    def __init__(self, model_name):\n",
        "        self.tokenizer = BertTokenizerFast.from_pretrained(model_name)\n",
        "        self.model = EncoderDecoderModel.from_pretrained(model_name)\n",
        "        # self.model=self.model.encoder.resize_token_embeddings(len(self.tokenizer))\n",
        "        # self.model=self.model.decoder.resize_token_embeddings(len(self.tokenizer))\n",
        "\n",
        "    def __call__(self, text):\n",
        "        input_ids = self.tokenizer.encode(text, return_tensors= 'pt',truncation=True,padding=\"max_length\")\n",
        "\n",
        "        sentence_length = len(input_ids[0])\n",
        "        min_length = max(20, int(0.1*sentence_length))\n",
        "        max_length = min(50, int(0.3*sentence_length))\n",
        "\n",
        "\n",
        "        outputs = self.model.generate(\n",
        "            input_ids,\n",
        "            min_length=min_length,\n",
        "            max_length=max_length\n",
        "        )\n",
        "\n",
        "        print(self.tokenizer.decode(outputs[0], skip_special_tokens=True))"
      ],
      "execution_count": null,
      "outputs": []
    },
    {
      "cell_type": "code",
      "metadata": {
        "colab": {
          "base_uri": "https://localhost:8080/"
        },
        "id": "-7pFTXs5-qoO",
        "outputId": "783484ee-c319-4682-eb20-e08f89e567cd"
      },
      "source": [
        "summarize=Summarize('/content/drive/Shareddrives/KLUE Summarization/모델링/klue_sum_model_save')"
      ],
      "execution_count": null,
      "outputs": [
        {
          "output_type": "stream",
          "name": "stderr",
          "text": [
            "The following encoder weights were not tied to the decoder ['bert/pooler']\n",
            "The following encoder weights were not tied to the decoder ['bert/pooler']\n"
          ]
        }
      ]
    },
    {
      "cell_type": "code",
      "metadata": {
        "colab": {
          "base_uri": "https://localhost:8080/"
        },
        "id": "S6SZkyN2_N2J",
        "outputId": "46677348-9882-4f00-c6fc-2bf616e2a43a"
      },
      "source": [
        "cd /content/drive/Shareddrives/KLUE Summarization/"
      ],
      "execution_count": null,
      "outputs": [
        {
          "output_type": "stream",
          "name": "stdout",
          "text": [
            "/content/drive/Shareddrives/KLUE Summarization\n"
          ]
        }
      ]
    },
    {
      "cell_type": "code",
      "metadata": {
        "colab": {
          "base_uri": "https://localhost:8080/"
        },
        "id": "Wztt1p_K_PKb",
        "outputId": "4ddd6f06-bcf1-42fb-fe4f-d6278ee93302"
      },
      "source": [
        "!ls"
      ],
      "execution_count": null,
      "outputs": [
        {
          "output_type": "stream",
          "name": "stdout",
          "text": [
            " 모델링\t\t '문서요약 텍스트'   models\t\t'Preprocessed Data'\n",
            "'도서자료 요약'  'klue crawling'     news_summary2.pkl\t'문서요약 텍스트_unzip'\n"
          ]
        }
      ]
    },
    {
      "cell_type": "code",
      "metadata": {
        "colab": {
          "base_uri": "https://localhost:8080/",
          "height": 292
        },
        "id": "EztR7ZvQ-348",
        "outputId": "05c7a134-e1c5-4bb3-b20b-300dd1e01961"
      },
      "source": [
        "import json\n",
        "import pandas as pd\n",
        "\n",
        "def read_jsonl(path):\n",
        "  DATA_DIR = \"문서요약 텍스트_unzip\"\n",
        "  with open(DATA_DIR + path , 'r') as json_file:\n",
        "      json_list = list(json_file)\n",
        "\n",
        "  trains = []\n",
        "\n",
        "  for json_str in json_list:\n",
        "      line = json.loads(json_str)\n",
        "      trains.append(line)\n",
        "  df = pd.DataFrame(trains)\n",
        "  return df\n",
        "\n",
        "train_df = read_jsonl('/1.Training/신문기사_1.train.jsonl/train.jsonl')\n",
        "val_df = read_jsonl('/2.Validation/신문기사_1.vaild.jsonl/vaild.jsonl')\n",
        "train_df.head()"
      ],
      "execution_count": null,
      "outputs": [
        {
          "output_type": "execute_result",
          "data": {
            "text/html": [
              "<div>\n",
              "<style scoped>\n",
              "    .dataframe tbody tr th:only-of-type {\n",
              "        vertical-align: middle;\n",
              "    }\n",
              "\n",
              "    .dataframe tbody tr th {\n",
              "        vertical-align: top;\n",
              "    }\n",
              "\n",
              "    .dataframe thead th {\n",
              "        text-align: right;\n",
              "    }\n",
              "</style>\n",
              "<table border=\"1\" class=\"dataframe\">\n",
              "  <thead>\n",
              "    <tr style=\"text-align: right;\">\n",
              "      <th></th>\n",
              "      <th>media</th>\n",
              "      <th>id</th>\n",
              "      <th>article_original</th>\n",
              "      <th>abstractive</th>\n",
              "      <th>extractive</th>\n",
              "    </tr>\n",
              "  </thead>\n",
              "  <tbody>\n",
              "    <tr>\n",
              "      <th>0</th>\n",
              "      <td>부산일보</td>\n",
              "      <td>360972161</td>\n",
              "      <td>[지난해 고령화와 유례가 드문 겨울 한파 등 영향으로 우리나라 사망자 수가 통계 작...</td>\n",
              "      <td>통계청이 발표한 '2018년 사망원인통계'를 보면 지난해 총 사망자 수는 관련 통계...</td>\n",
              "      <td>[4, 11, 18]</td>\n",
              "    </tr>\n",
              "    <tr>\n",
              "      <th>1</th>\n",
              "      <td>중도일보</td>\n",
              "      <td>356659913</td>\n",
              "      <td>[서산시의회(의장 임재관) 가충순·이수의 의원이 (사)한국지역신문협회에서 수여하는 ...</td>\n",
              "      <td>서산시 가충순 의원과 이수의 의원이 활발한 의정활동을 펼친 감사의 표시로 한국지역신...</td>\n",
              "      <td>[1, 3, 4]</td>\n",
              "    </tr>\n",
              "    <tr>\n",
              "      <th>2</th>\n",
              "      <td>무등일보</td>\n",
              "      <td>351718460</td>\n",
              "      <td>[지난 2004년 시작해 조선대 학생들의 대표적인 행사로 자리매김한 ‘조선대 국토대...</td>\n",
              "      <td>‘조선대의 새로운 비상을 꿈꾸다’를 슬로건으로 진행되어 단체생활을 통해 협동심과 ...</td>\n",
              "      <td>[0, 2, 4]</td>\n",
              "    </tr>\n",
              "    <tr>\n",
              "      <th>3</th>\n",
              "      <td>이데일리</td>\n",
              "      <td>335868123</td>\n",
              "      <td>[서울시는 신학기가 시작되는 다음달 4일부터 고등학교 3학년 무상급식을 실시한다고 ...</td>\n",
              "      <td>서울시가 다음달 4일부터 서울 시내 319개 고등학교 3학년 8만4700명을 대상으...</td>\n",
              "      <td>[0, 1, 2]</td>\n",
              "    </tr>\n",
              "    <tr>\n",
              "      <th>4</th>\n",
              "      <td>서울신문</td>\n",
              "      <td>351443347</td>\n",
              "      <td>[미국인 선교사가 우간다에서 의사 행세를 하며 의료 시설을 운영한 혐의로 지역 시민...</td>\n",
              "      <td>미국인 선교사가 우간다에서 의사 행세를 하며 두 아이의 죽음과 관련돼 있다며 지역 ...</td>\n",
              "      <td>[0, 1, 2]</td>\n",
              "    </tr>\n",
              "  </tbody>\n",
              "</table>\n",
              "</div>"
            ],
            "text/plain": [
              "  media  ...   extractive\n",
              "0  부산일보  ...  [4, 11, 18]\n",
              "1  중도일보  ...    [1, 3, 4]\n",
              "2  무등일보  ...    [0, 2, 4]\n",
              "3  이데일리  ...    [0, 1, 2]\n",
              "4  서울신문  ...    [0, 1, 2]\n",
              "\n",
              "[5 rows x 5 columns]"
            ]
          },
          "metadata": {},
          "execution_count": 17
        }
      ]
    },
    {
      "cell_type": "code",
      "metadata": {
        "id": "x_n-hWWE_QHe"
      },
      "source": [
        "def articles_to_str(articles_list):\n",
        "  return ' '.join(articles_list)"
      ],
      "execution_count": null,
      "outputs": []
    },
    {
      "cell_type": "code",
      "metadata": {
        "id": "BLe_-cM2_Uoi"
      },
      "source": [
        "train_df['article_to_str']=train_df['article_original'].apply(articles_to_str)"
      ],
      "execution_count": null,
      "outputs": []
    },
    {
      "cell_type": "code",
      "metadata": {
        "colab": {
          "base_uri": "https://localhost:8080/",
          "height": 380
        },
        "id": "w7bf9iLY_Vh7",
        "outputId": "2ba9d317-b4fa-4345-bf70-10e7a7c67812"
      },
      "source": [
        "train_df.head()"
      ],
      "execution_count": null,
      "outputs": [
        {
          "output_type": "execute_result",
          "data": {
            "text/html": [
              "<div>\n",
              "<style scoped>\n",
              "    .dataframe tbody tr th:only-of-type {\n",
              "        vertical-align: middle;\n",
              "    }\n",
              "\n",
              "    .dataframe tbody tr th {\n",
              "        vertical-align: top;\n",
              "    }\n",
              "\n",
              "    .dataframe thead th {\n",
              "        text-align: right;\n",
              "    }\n",
              "</style>\n",
              "<table border=\"1\" class=\"dataframe\">\n",
              "  <thead>\n",
              "    <tr style=\"text-align: right;\">\n",
              "      <th></th>\n",
              "      <th>media</th>\n",
              "      <th>id</th>\n",
              "      <th>article_original</th>\n",
              "      <th>abstractive</th>\n",
              "      <th>extractive</th>\n",
              "      <th>article_to_str</th>\n",
              "    </tr>\n",
              "  </thead>\n",
              "  <tbody>\n",
              "    <tr>\n",
              "      <th>0</th>\n",
              "      <td>부산일보</td>\n",
              "      <td>360972161</td>\n",
              "      <td>[지난해 고령화와 유례가 드문 겨울 한파 등 영향으로 우리나라 사망자 수가 통계 작...</td>\n",
              "      <td>통계청이 발표한 '2018년 사망원인통계'를 보면 지난해 총 사망자 수는 관련 통계...</td>\n",
              "      <td>[4, 11, 18]</td>\n",
              "      <td>지난해 고령화와 유례가 드문 겨울 한파 등 영향으로 우리나라 사망자 수가 통계 작성...</td>\n",
              "    </tr>\n",
              "    <tr>\n",
              "      <th>1</th>\n",
              "      <td>중도일보</td>\n",
              "      <td>356659913</td>\n",
              "      <td>[서산시의회(의장 임재관) 가충순·이수의 의원이 (사)한국지역신문협회에서 수여하는 ...</td>\n",
              "      <td>서산시 가충순 의원과 이수의 의원이 활발한 의정활동을 펼친 감사의 표시로 한국지역신...</td>\n",
              "      <td>[1, 3, 4]</td>\n",
              "      <td>서산시의회(의장 임재관) 가충순·이수의 의원이 (사)한국지역신문협회에서 수여하는 우...</td>\n",
              "    </tr>\n",
              "    <tr>\n",
              "      <th>2</th>\n",
              "      <td>무등일보</td>\n",
              "      <td>351718460</td>\n",
              "      <td>[지난 2004년 시작해 조선대 학생들의 대표적인 행사로 자리매김한 ‘조선대 국토대...</td>\n",
              "      <td>‘조선대의 새로운 비상을 꿈꾸다’를 슬로건으로 진행되어 단체생활을 통해 협동심과 ...</td>\n",
              "      <td>[0, 2, 4]</td>\n",
              "      <td>지난 2004년 시작해 조선대 학생들의 대표적인 행사로 자리매김한 ‘조선대 국토대장...</td>\n",
              "    </tr>\n",
              "    <tr>\n",
              "      <th>3</th>\n",
              "      <td>이데일리</td>\n",
              "      <td>335868123</td>\n",
              "      <td>[서울시는 신학기가 시작되는 다음달 4일부터 고등학교 3학년 무상급식을 실시한다고 ...</td>\n",
              "      <td>서울시가 다음달 4일부터 서울 시내 319개 고등학교 3학년 8만4700명을 대상으...</td>\n",
              "      <td>[0, 1, 2]</td>\n",
              "      <td>서울시는 신학기가 시작되는 다음달 4일부터 고등학교 3학년 무상급식을 실시한다고 2...</td>\n",
              "    </tr>\n",
              "    <tr>\n",
              "      <th>4</th>\n",
              "      <td>서울신문</td>\n",
              "      <td>351443347</td>\n",
              "      <td>[미국인 선교사가 우간다에서 의사 행세를 하며 의료 시설을 운영한 혐의로 지역 시민...</td>\n",
              "      <td>미국인 선교사가 우간다에서 의사 행세를 하며 두 아이의 죽음과 관련돼 있다며 지역 ...</td>\n",
              "      <td>[0, 1, 2]</td>\n",
              "      <td>미국인 선교사가 우간다에서 의사 행세를 하며 의료 시설을 운영한 혐의로 지역 시민단...</td>\n",
              "    </tr>\n",
              "  </tbody>\n",
              "</table>\n",
              "</div>"
            ],
            "text/plain": [
              "  media  ...                                     article_to_str\n",
              "0  부산일보  ...  지난해 고령화와 유례가 드문 겨울 한파 등 영향으로 우리나라 사망자 수가 통계 작성...\n",
              "1  중도일보  ...  서산시의회(의장 임재관) 가충순·이수의 의원이 (사)한국지역신문협회에서 수여하는 우...\n",
              "2  무등일보  ...  지난 2004년 시작해 조선대 학생들의 대표적인 행사로 자리매김한 ‘조선대 국토대장...\n",
              "3  이데일리  ...  서울시는 신학기가 시작되는 다음달 4일부터 고등학교 3학년 무상급식을 실시한다고 2...\n",
              "4  서울신문  ...  미국인 선교사가 우간다에서 의사 행세를 하며 의료 시설을 운영한 혐의로 지역 시민단...\n",
              "\n",
              "[5 rows x 6 columns]"
            ]
          },
          "metadata": {},
          "execution_count": 20
        }
      ]
    },
    {
      "cell_type": "code",
      "metadata": {
        "colab": {
          "base_uri": "https://localhost:8080/"
        },
        "id": "jwzMZJfj_WbU",
        "outputId": "e05d7bc1-00bc-447f-f0f2-637ac40b7ea5"
      },
      "source": [
        "# Training data에 적용했을 때\n",
        "text=train_df['article_to_str'][0]\n",
        "print('본문 :',text)\n",
        "print('------------------------------')\n",
        "print('요약문 :',end='')\n",
        "summarize(text)"
      ],
      "execution_count": null,
      "outputs": [
        {
          "output_type": "stream",
          "name": "stdout",
          "text": [
            "본문 : 지난해 고령화와 유례가 드문 겨울 한파 등 영향으로 우리나라 사망자 수가 통계 작성 이후 가장 많았다. 폐렴과 치매의 일종인 알츠하이머병은 지난해 사망원인 순위 3위와 9위로 전년보다 각각 한 단계, 두 단계 상승하는 등 노인성 질병에 의한 사망률이 급증하는 추세다. ‘연령표준화 사망률’(표준인구 10만 명당 사망자 수)은 울산·충북·부산 순으로 높게 나타났다. ■작년 사망자 29만 8820명, 역대 최다 24일 통계청이 발표한 '2018년 사망원인통계'를 보면 지난해 총 사망자 수는 전년 대비 4.7%(1만 3286명) 증가한 29만 8820명으로 관련 통계를 작성한 1983년 이후 가장 많았으며, 5년 연속 증가세를 보였다. 통계청은 인구 구조의 고령화와 지난해 1~2월 유례가 드문 한파 등을 그 원인으로 꼽았다. 지난해 조사망률(인구 10만 명당 사망자 수) 역시 582.5명으로 전년보다 4.5%(25.1명) 증가해 5년 연속 늘었다. 특히 80세 이상의 사망자가 전체 사망자의 절반에 가까운 46.3%로, 10년 전보다 14.3%포인트(P)나 증가했다. ■폐렴·알츠하이머병 사망률 순위 ‘껑충’ 사망원인별로 보면 지난해 암(악성신생물)에 의한 사망률(이하 인구 10만 명당 사망자 수)은 154.3명으로 전년보다 0.2% 증가했다. 1983년 관련 통계를 집계한 이래 줄곧 암이 사망원인 1위로 집계됐다. 특히 폐렴(4위→3위)과 치매의 일종인 알츠하이머병(11위→9위)에 의한 사망률 순위 상승이 두드러졌다. 폐렴 사망률은 2004년 10위에서 꾸준히 순위가 상승하고 있고, 알츠하이머병 사망률 역시 통계 작성 이래 10대 사인에 처음 포함됐다. 지난해 알츠하이머병에 의한 사망률은 12.0명으로 전년(9.8명) 대비 22.5% 증가했다. 알츠하이머병 사망률은 10년 전(3.8명)과 비교하면 무려 214.2% 증가했다. 폐렴 사망률은 45.4명으로 전년(37.8명) 대비 20.0% 증가했다. 알코올 관련 사망률은 9.6명으로 전년보다 2.0% 늘었다. ■자살률 5년 만에 증가…\"베르테르 효과 영향\" 지난해 자살에 의한 사망자는 1만 3670명으로 전년보다 9.7%(1207명) 증가했다. 자살률은 26.6명으로 전년보다 2.3명(9.5%) 증가했다. 자살률은 2013년 28.5명, 2014년 27.3명, 2015년 26.5명, 2016년 25.6명, 2017년 24.3명 등 4년 연속 줄어들다가 5년 만에 증가세로 돌아섰다. 자살은 10∼30대까지 사망원인 순위 1위를 차지했고, 40∼50대에서도 2위를 기록했다. 김진 통계청 인구동향과장은 \"자살에는 베르테르 효과, 즉 유명인 자살이 영향을 준다. 2011년 이후 유명인 자살이 줄면서 자살이 줄었는데 지난해에는 유명인 자살이 있어 영향을 줬다\"고 설명했다. 지역 간 연령구조 차이를 표준화한 사망률(표준인구 10만 명당 사망자 수)을 보면 울산(355.3명), 충북(352.6명), 부산(350.8명)이 높았고, 서울(283.3명)과 경기(306.8명)가 낮았다. 사인별로 연령표준화 사망률이 높은 지역을 보면 암은 경남(101.5명), 심장 질환은 경남(44.6명), 뇌혈관 질환은 울산(30.6명), 폐렴은 경북(30.3명), 운수사고는 전남(14.4명), 고의적 자해(자살)는 충남(29.8명)이었다.\n",
            "------------------------------\n",
            "요약문 :통계청이 발표한 2018년 사망원인통계 를 보면 지난해 총 사망자 수는 관련 통계를 작성한 이래 가장 많았으며 사망 원인 중 폐렴과 알츠하이머 병의 순위 상승이 두드러졌고 자살에 의한 사망자도 증가하는 등 사망자의 사망자가 늘고 있는 가운데 통계청은 통계 집계 이후 가장 많았다고 통계했다.허머병 사망률 또한 전년 대비 4. 7 % 증가한 29만 8820명, 역대 최대치 ( 9위 ), 자살 실패자 수 ) 증가세를 보였다. 통계 통계조사를 통해서 통계 작성 이후 그 원인에 따르면 지난해 조사망률 ( 표준인구\n"
          ]
        }
      ]
    },
    {
      "cell_type": "code",
      "metadata": {
        "id": "u6sFSPUp_jYO"
      },
      "source": [
        "text='이때까지 경영학과에서 들었던 모든 과목중에 성취감은 가장 높은 과목인 것 같습니다.매번 케이스 분석을 바탕으로 정말 오랜시간동안 토론이 진행되는데, 내용이 많이 유익합니다. 팀플이 까다로운 편이긴 하지만, 모두가 노력한 만큼 교수님께서 점수를 잘 주시는 것 같습니다. 쉽지 않은 과목이지만, 그만큼 얻어가는 것이 많았던 김재욱 교수님의 강의였습니다. 강의 시간이 길고, HBS 케이스 및 과제에 대한 부담이 컸지만, 별도의 시험을 치지 않기 때문에, 시험 기간의 부담이 훨씬 적었습니다. 교수님께서 이제 안식년에 들어가시기 때문에 당분간은 개강되지 않겠지만, 비즈니스 케이스에 대한 분석 방법론, 데이터 계산을 통한 근거 형성, 열정적인 강의 등에 관심있는 학우라면, 추천합니다! 줌 라이브 강의로 진행됨 / 월요일 3시반~6시15분(이지만 더 늦게 끝날 때도 있었어요) / 중간기말 없고, 1~2주에 한번 정도 영문 케이스 읽고 레포트(2장 분량) 제출 / 팀플 레포트+발표 1번 있음. 사실 이 강의를 들으면서 내용도 어렵고 케이스 스터디는 막막해서 힘들 때가 많았습니다. 산 넘어 산이라는 말처럼 매주 더 어려워지더라고요... 마케팅 잘 모르는 내가 이걸 왜 듣겠다고 했을까 후회도 했어요. 그런데 신기한 게 매주 끙끙대면서 레포트를 써서 제출하고 나서 수업을 들으면 신기하게 고민하던 내용들이 다 정리되는 느낌이었어요. 교수님의 설명+학우님들의 의견을 듣다 보면 명쾌하게 이해가 되는 기적... B2B 쪽은 개인적으로 처음 접해봐서 낯설고 어려웠지만 강의가 유익해서 열심히 들었던 것 같아요. 학점이 어떻게 나오더라도 후회 없이 최선을 다하자는 생각이었는데, 결과적으로는 기대 이상으로 학점도 잘 받았습니다. 수업 시간에 발표를 자주 하는 게 중요한 것 같아요. 레포트는 내가 어려우면 다른 사람도 어렵다 라는 생각으로 가능한 만큼 쓰면 (정신건강에) 좋을 것 같습니다ㅎㅎ 이 강의를 들으면서 B2B 마케팅과 더 친숙해졌고 실무적인 관점의 접근을 배운 것 같아요. 관련 분야에 관심 있는 분들께 추천드립니다.'"
      ],
      "execution_count": null,
      "outputs": []
    },
    {
      "cell_type": "code",
      "metadata": {
        "colab": {
          "base_uri": "https://localhost:8080/"
        },
        "id": "NQ28nfnF_xsO",
        "outputId": "7fcd2701-244b-4bd5-bc21-91905886f878"
      },
      "source": [
        "print('본문 :',text)\n",
        "print('------------------------------')\n",
        "print('요약문 :',end='')\n",
        "summarize(text)"
      ],
      "execution_count": null,
      "outputs": [
        {
          "output_type": "stream",
          "name": "stdout",
          "text": [
            "본문 : 이때까지 경영학과에서 들었던 모든 과목중에 성취감은 가장 높은 과목인 것 같습니다.매번 케이스 분석을 바탕으로 정말 오랜시간동안 토론이 진행되는데, 내용이 많이 유익합니다. 팀플이 까다로운 편이긴 하지만, 모두가 노력한 만큼 교수님께서 점수를 잘 주시는 것 같습니다. 쉽지 않은 과목이지만, 그만큼 얻어가는 것이 많았던 김재욱 교수님의 강의였습니다. 강의 시간이 길고, HBS 케이스 및 과제에 대한 부담이 컸지만, 별도의 시험을 치지 않기 때문에, 시험 기간의 부담이 훨씬 적었습니다. 교수님께서 이제 안식년에 들어가시기 때문에 당분간은 개강되지 않겠지만, 비즈니스 케이스에 대한 분석 방법론, 데이터 계산을 통한 근거 형성, 열정적인 강의 등에 관심있는 학우라면, 추천합니다! 줌 라이브 강의로 진행됨 / 월요일 3시반~6시15분(이지만 더 늦게 끝날 때도 있었어요) / 중간기말 없고, 1~2주에 한번 정도 영문 케이스 읽고 레포트(2장 분량) 제출 / 팀플 레포트+발표 1번 있음. 사실 이 강의를 들으면서 내용도 어렵고 케이스 스터디는 막막해서 힘들 때가 많았습니다. 산 넘어 산이라는 말처럼 매주 더 어려워지더라고요... 마케팅 잘 모르는 내가 이걸 왜 듣겠다고 했을까 후회도 했어요. 그런데 신기한 게 매주 끙끙대면서 레포트를 써서 제출하고 나서 수업을 들으면 신기하게 고민하던 내용들이 다 정리되는 느낌이었어요. 교수님의 설명+학우님들의 의견을 듣다 보면 명쾌하게 이해가 되는 기적... B2B 쪽은 개인적으로 처음 접해봐서 낯설고 어려웠지만 강의가 유익해서 열심히 들었던 것 같아요. 학점이 어떻게 나오더라도 후회 없이 최선을 다하자는 생각이었는데, 결과적으로는 기대 이상으로 학점도 잘 받았습니다. 수업 시간에 발표를 자주 하는 게 중요한 것 같아요. 레포트는 내가 어려우면 다른 사람도 어렵다 라는 생각으로 가능한 만큼 쓰면 (정신건강에) 좋을 것 같습니다ㅎㅎ 이 강의를 들으면서 B2B 마케팅과 더 친숙해졌고 실무적인 관점의 접근을 배운 것 같아요. 관련 분야에 관심 있는 분들께 추천드립니다.\n",
            "------------------------------\n",
            "요약문 :교수님의 강의 시간의 부담이 가장 큰 과목인 심숙숙자 ( ssbs 케이스 ) 는 경영학과에서 모든 과목중 성취감이 가장 높은 과목으로, 강의 시간이 길며, 회사의 어려움과 실무적인 관점, 데이터 계산을 통한 근거 형성, 열정적인 강의 등에 관심있는 학우라면 누구나 참가할 수 있다. ㄱ 뭨 강의 후반기 영문 케이스 읽고 레포트 ( 2장 분량 ) 제출팀 제출 및 중간기 말문 작성 및 발표 1 ~ 2주에 한 건의한 것에 대해 학점 : 2. 2b 마케팅과 더 친숙해졌다 로 평가했다.\n"
          ]
        }
      ]
    },
    {
      "cell_type": "code",
      "metadata": {
        "id": "1dJr04AZ_zMk"
      },
      "source": [
        ""
      ],
      "execution_count": null,
      "outputs": []
    }
  ]
}