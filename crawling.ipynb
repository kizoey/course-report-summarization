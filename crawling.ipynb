{
  "nbformat": 4,
  "nbformat_minor": 5,
  "metadata": {
    "kernelspec": {
      "display_name": "Python 3 (ipykernel)",
      "language": "python",
      "name": "python3"
    },
    "language_info": {
      "codemirror_mode": {
        "name": "ipython",
        "version": 3
      },
      "file_extension": ".py",
      "mimetype": "text/x-python",
      "name": "python",
      "nbconvert_exporter": "python",
      "pygments_lexer": "ipython3",
      "version": "3.8.11"
    },
    "colab": {
      "name": "[KUBIG] KLUE crawling_강의평하나씩.ipynb의 사본",
      "provenance": [],
      "collapsed_sections": []
    }
  },
  "cells": [
    {
      "cell_type": "code",
      "metadata": {
        "id": "NVy13SZG_Mu-"
      },
      "source": [
        "!pip install selenium\n",
        "!apt-get update\n",
        "!apt install chromium-chromedriver"
      ],
      "id": "NVy13SZG_Mu-",
      "execution_count": null,
      "outputs": []
    },
    {
      "cell_type": "code",
      "metadata": {
        "id": "bq15iOjLAypa"
      },
      "source": [
        "!pip install --upgrade urllib3\n",
        "!pip install --upgrade requests\n",
        "!pip install fake_useragent"
      ],
      "id": "bq15iOjLAypa",
      "execution_count": null,
      "outputs": []
    },
    {
      "cell_type": "code",
      "metadata": {
        "id": "d280b42a"
      },
      "source": [
        "from selenium import webdriver\n",
        "from urllib.request import urlopen\n",
        "from bs4 import BeautifulSoup as bs\n",
        "from selenium.webdriver.common.keys import Keys\n",
        "import time\n",
        "import sys\n",
        "import requests\n",
        "from tqdm import *\n",
        "from selenium.webdriver.common.by import By\n",
        "from fake_useragent import UserAgent"
      ],
      "id": "d280b42a",
      "execution_count": null,
      "outputs": []
    },
    {
      "cell_type": "code",
      "metadata": {
        "id": "f73GLjKXlkkl"
      },
      "source": [
        "urls = [\"https://klue.kr/lectures/107754\",\n",
        "\"https://klue.kr/lectures/107755\",\n",
        "\"https://klue.kr/lectures/107756\",\n",
        "\"https://klue.kr/lectures/107757\",\n",
        "\"https://klue.kr/lectures/107758\",\n",
        "\"https://klue.kr/lectures/107759\",\n",
        "\"https://klue.kr/lectures/107760\",\n",
        "\"https://klue.kr/lectures/107761\",\n",
        "\"https://klue.kr/lectures/107762\",\n",
        "\"https://klue.kr/lectures/107763\",\n",
        "\"https://klue.kr/lectures/107764\",\n",
        "\"https://klue.kr/lectures/107828\",\n",
        "\"https://klue.kr/lectures/107829\",\n",
        "\"https://klue.kr/lectures/107830\",\n",
        "\"https://klue.kr/lectures/107831\",\n",
        "\"https://klue.kr/lectures/107832\",\n",
        "\"https://klue.kr/lectures/107833\",\n",
        "\"https://klue.kr/lectures/107834\",\n",
        "\"https://klue.kr/lectures/107835\",\n",
        "\"https://klue.kr/lectures/107836\",\n",
        "\"https://klue.kr/lectures/107837\",\n",
        "\"https://klue.kr/lectures/107838\",\n",
        "\"https://klue.kr/lectures/107839\",\n",
        "\"https://klue.kr/lectures/107840\",\n",
        "\"https://klue.kr/lectures/107841\",\n",
        "\"https://klue.kr/lectures/107842\",\n",
        "\"https://klue.kr/lectures/107843\",\n",
        "\"https://klue.kr/lectures/107844\",\n",
        "\"https://klue.kr/lectures/107845\",\n",
        "\"https://klue.kr/lectures/107846\",\n",
        "\"https://klue.kr/lectures/108102\",\n",
        "\"https://klue.kr/lectures/108103\",\n",
        "\"https://klue.kr/lectures/108104\",\n",
        "\"https://klue.kr/lectures/108105\",\n",
        "\"https://klue.kr/lectures/108106\",\n",
        "\"https://klue.kr/lectures/108107\",\n",
        "\"https://klue.kr/lectures/108108\",\n",
        "\"https://klue.kr/lectures/108109\",\n",
        "\"https://klue.kr/lectures/108110\",\n",
        "\"https://klue.kr/lectures/108111\",\n",
        "\"https://klue.kr/lectures/108112\",\n",
        "\"https://klue.kr/lectures/108113\",\n",
        "\"https://klue.kr/lectures/108710\",\n",
        "\"https://klue.kr/lectures/108711\",\n",
        "\"https://klue.kr/lectures/108712\",\n",
        "\"https://klue.kr/lectures/108713\",\n",
        "\"https://klue.kr/lectures/108714\"\n",
        "]"
      ],
      "id": "f73GLjKXlkkl",
      "execution_count": null,
      "outputs": []
    },
    {
      "cell_type": "code",
      "metadata": {
        "id": "HpeMYgH-kZh9"
      },
      "source": [
        "# Crawling code function\n",
        "  # KLUE 아이디/비밀번호\n",
        "def crawling(url_list):\n",
        "  id = \"\"\n",
        "  pwd = \"\"\n",
        "\n",
        "  # KLUE driver 생성\n",
        "  url = \"https://klue.kr/login\"\n",
        "  options = webdriver.ChromeOptions()\n",
        "  options.add_argument('--headless')\n",
        "  options.add_argument('--no-sandbox')\n",
        "  options.add_argument(\"--single-process\")\n",
        "  options.add_argument(\"--disable-dev-shm-usage\")\n",
        "  options.add_argument('window-size=1920x1080')\n",
        "  options.add_argument(\"user-agent=Mozilla/5.0 (MacBook Air; M1 Mac OS X 11_4) AppleWebKit/605.1.15 (KHTML, like Gecko) HeadlessChrome/95.0.4638.69 Safari/604.1\")\n",
        "  # options.add_argument(\"user-agent=Mozilla/5.0 (Macintosh; Intel Mac OS X 10_12_6) AppleWebKit/537.36 (KHTML, like Gecko) HeadlessChrome/95.0.4638.69 Safari/537.36\")\n",
        "  driver = webdriver.Chrome('chromedriver', options=options)\n",
        "  delay_time = 3\n",
        "  driver.implicitly_wait(delay_time)\n",
        "  driver.get(url)\n",
        "\n",
        "  # 아이디, 비밀번호에 접근\n",
        "  input_id = driver.find_element(By.XPATH, \"/html/body/div/div/div/div/div/div/input[1]\")\n",
        "  input_id.send_keys(id)\n",
        "  input_pwd = driver.find_element(By.XPATH, \"/html/body/div/div/div/div/div/div/input[2]\")\n",
        "  input_pwd.send_keys(pwd)\n",
        "\n",
        "  # 로그인 버튼 클릭\n",
        "  login = driver.find_element(By.XPATH, \"/html/body/div/div/div/div/div/div/button\")\n",
        "  login.click()\n",
        "\n",
        "  driver.implicitly_wait(10)\n",
        "\n",
        "\n",
        "  # 강의명/교수명/강의평 크롤링\n",
        "  for i in tqdm(range(0, len(url_list))):\n",
        "      try:\n",
        "          driver.get(url_list[i])\n",
        "          class_name = driver.find_element(By.XPATH, \"/html/body/div/div/div/section[1]/div/div[1]/div[1]/div[2]/p[1]\")\n",
        "          professor_name = driver.find_element(By.XPATH, \"/html/body/div/div/div/section[1]/div/div[1]/div[1]/div[2]/p[2]/span[1]\")\n",
        "          container = driver.find_elements(By.XPATH, \"/html/body/div/div/div/section[3]/div/div/div[2]/div/div\")\n",
        "          eval_list = []\n",
        "          for n in range(1, 11):\n",
        "              try:\n",
        "                  container = driver.find_elements(By.XPATH, \"/html/body/div/div/div/section[3]/div/div/div[2]/div/div[%d]\" % n)\n",
        "                  for c in container:\n",
        "                      evaluation = c.find_element(By.XPATH, \"/html/body/div/div/div/section[3]/div/div/div[2]/div/div[%d]/p\" % n)\n",
        "                      eval_list.append(evaluation.text)\n",
        "              except:\n",
        "                  break\n",
        "          eval_list = \"\".join(eval_list)\n",
        "          print(\"Class name: %s \\n Professor name: %s \\n Evaluation: %s\" % (class_name.text, professor_name.text, eval_list))\n",
        "      except:\n",
        "        raise NameError('crawling not available.')\n",
        "\n",
        "  driver.close()"
      ],
      "id": "HpeMYgH-kZh9",
      "execution_count": null,
      "outputs": []
    },
    {
      "cell_type": "code",
      "metadata": {
        "id": "TYmfhjB4n1f5"
      },
      "source": [
        "if __name__ == \"__main__\":\n",
        "  crawling(url_lst)"
      ],
      "id": "TYmfhjB4n1f5",
      "execution_count": null,
      "outputs": []
    }
  ]
}